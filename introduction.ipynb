{
 "cells": [
  {
   "cell_type": "code",
   "execution_count": 1,
   "id": "290ba169",
   "metadata": {},
   "outputs": [],
   "source": [
    "import open3d as o3d"
   ]
  },
  {
   "cell_type": "code",
   "execution_count": 2,
   "id": "65799302",
   "metadata": {},
   "outputs": [
    {
     "name": "stdout",
     "output_type": "stream",
     "text": [
      "geometry::PointCloud with 397 points.\n"
     ]
    }
   ],
   "source": [
    "import wget\n",
    "url = 'https://raw.githubusercontent.com/PointCloudLibrary/pcl/master/test/bunny.pcd'\n",
    "filename = wget.download(url)\n",
    "\n",
    "pcd = o3d.io.read_point_cloud(filename)\n",
    "print(pcd)"
   ]
  },
  {
   "cell_type": "code",
   "execution_count": 3,
   "id": "578e41fb",
   "metadata": {},
   "outputs": [
    {
     "data": {
      "text/plain": [
       "True"
      ]
     },
     "execution_count": 3,
     "metadata": {},
     "output_type": "execute_result"
    }
   ],
   "source": [
    "#The code below writes a point cloud.\n",
    "  \n",
    "o3d.io.write_point_cloud(\"copy_of_bunny.pcd\", pcd)"
   ]
  },
  {
   "cell_type": "code",
   "execution_count": 4,
   "id": "3965a2c2",
   "metadata": {},
   "outputs": [
    {
     "name": "stdout",
     "output_type": "stream",
     "text": [
      "hi\n"
     ]
    }
   ],
   "source": [
    "print('hi')"
   ]
  },
  {
   "cell_type": "code",
   "execution_count": 5,
   "id": "2547fc1f",
   "metadata": {},
   "outputs": [
    {
     "data": {
      "text/plain": [
       "True"
      ]
     },
     "execution_count": 5,
     "metadata": {},
     "output_type": "execute_result"
    }
   ],
   "source": [
    "o3d.io.write_point_cloud(\"copy_of_bunny.pcd\", pcd)"
   ]
  },
  {
   "cell_type": "code",
   "execution_count": 6,
   "id": "c88b13df",
   "metadata": {},
   "outputs": [
    {
     "name": "stdout",
     "output_type": "stream",
     "text": [
      "geometry::PointCloud with 0 points.\n"
     ]
    }
   ],
   "source": [
    "pcd = o3d.io.read_point_cloud(\"sample.xyz\", format='xyz')\n",
    "print(pcd)"
   ]
  },
  {
   "cell_type": "code",
   "execution_count": 7,
   "id": "a63f22eb",
   "metadata": {},
   "outputs": [],
   "source": [
    "import open3d as o3d\n",
    "import numpy as np\n",
    "import PIL.Image\n",
    "import IPython.display\n",
    "import os\n",
    "import urllib\n",
    "import tarfile\n",
    "import gzip\n",
    "import zipfile\n",
    "import shutil\n",
    "\n",
    "#Download the point cloud using below command\n",
    "import wget\n",
    "url = 'http://graphics.stanford.edu/pub/3Dscanrep/bunny.tar.gz'\n",
    "#filename = wget.download(url)"
   ]
  },
  {
   "cell_type": "code",
   "execution_count": 8,
   "id": "50f0b9ca",
   "metadata": {},
   "outputs": [
    {
     "data": {
      "text/plain": [
       "geometry::TriangleMesh with 35947 points and 69451 triangles."
      ]
     },
     "execution_count": 8,
     "metadata": {},
     "output_type": "execute_result"
    }
   ],
   "source": [
    "bunny_path = \"bunny\"\n",
    "with tarfile.open(bunny_path + \".tar.gz\") as tar:\n",
    "            tar.extractall(path=os.path.dirname(bunny_path))\n",
    "        \n",
    "# f = open(os.path.expanduser(\"~/Desktop/somefile.txt\"))\n",
    "bunny_path = os.path.expanduser(\"~/Desktop/open3D/bunny/reconstruction/bun_zipper.ply\")\n",
    "mesh = o3d.io.read_triangle_mesh(bunny_path)\n",
    "mesh.compute_vertex_normals()"
   ]
  },
  {
   "cell_type": "code",
   "execution_count": null,
   "id": "b53e0ed6",
   "metadata": {},
   "outputs": [],
   "source": [
    "mesh.compute_vertex_normals()\n",
    "o3d.visualization.draw_geometries([mesh])\n",
    "\n",
    "pcd = mesh.sample_points_uniformly(number_of_points=500)\n",
    "o3d.visualization.draw_geometries([pcd])"
   ]
  },
  {
   "cell_type": "code",
   "execution_count": null,
   "id": "e37cd0b1",
   "metadata": {},
   "outputs": [],
   "source": []
  }
 ],
 "metadata": {
  "kernelspec": {
   "display_name": "Python 3",
   "language": "python",
   "name": "python3"
  },
  "language_info": {
   "codemirror_mode": {
    "name": "ipython",
    "version": 3
   },
   "file_extension": ".py",
   "mimetype": "text/x-python",
   "name": "python",
   "nbconvert_exporter": "python",
   "pygments_lexer": "ipython3",
   "version": "3.6.13"
  }
 },
 "nbformat": 4,
 "nbformat_minor": 5
}
